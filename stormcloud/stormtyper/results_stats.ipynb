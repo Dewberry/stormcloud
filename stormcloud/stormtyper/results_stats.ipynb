{
 "cells": [
  {
   "cell_type": "markdown",
   "metadata": {},
   "source": [
    "# Storm Typing Results Notebook"
   ]
  },
  {
   "cell_type": "code",
   "execution_count": 7,
   "metadata": {},
   "outputs": [],
   "source": [
    "from IPython.display import HTML\n",
    "from notebook_utils import (\n",
    "    get_notebook_paths,\n",
    "    process_notebooks,\n",
    "    convert_paths_to_html_links,\n",
    ")\n",
    "\n",
    "notebooks_folder_path = \"notebooks\"\n",
    "notebook_paths = get_notebook_paths(notebooks_folder_path)\n",
    "all_data = process_notebooks(notebook_paths)\n",
    "all_data_with_links = convert_paths_to_html_links(all_data, notebook_paths)"
   ]
  },
  {
   "cell_type": "markdown",
   "metadata": {},
   "source": [
    "## Mid-Latitude Cyclone"
   ]
  },
  {
   "cell_type": "code",
   "execution_count": 8,
   "metadata": {},
   "outputs": [
    {
     "data": {
      "text/html": [
       "<table border=\"1\" class=\"dataframe\">\n",
       "  <thead>\n",
       "    <tr style=\"text-align: right;\">\n",
       "      <th></th>\n",
       "      <th>storm_start_date</th>\n",
       "      <th>local_storm</th>\n",
       "      <th>mesoscale_storm</th>\n",
       "      <th>mid_latitude_cyclone</th>\n",
       "      <th>tropical</th>\n",
       "      <th>likely_storm_type</th>\n",
       "      <th>notes</th>\n",
       "      <th>HTML_Link</th>\n",
       "    </tr>\n",
       "  </thead>\n",
       "  <tbody>\n",
       "    <tr>\n",
       "      <th>0</th>\n",
       "      <td>1986_03_12</td>\n",
       "      <td>0.0</td>\n",
       "      <td>1.0</td>\n",
       "      <td>6.0</td>\n",
       "      <td>0.0</td>\n",
       "      <td>mid_latitude_cyclone</td>\n",
       "      <td></td>\n",
       "      <td><a href='notebooks/storm-1986_03_12.html'>notebooks/storm-1986_03_12.html</a></td>\n",
       "    </tr>\n",
       "    <tr>\n",
       "      <th>2</th>\n",
       "      <td>2015_10_23</td>\n",
       "      <td>0.0</td>\n",
       "      <td>2.0</td>\n",
       "      <td>6.0</td>\n",
       "      <td>1.0</td>\n",
       "      <td>mid_latitude_cyclone</td>\n",
       "      <td>Non-tropical low develops just off coast</td>\n",
       "      <td><a href='notebooks/storm-2015_10_23.html'>notebooks/storm-2015_10_23.html</a></td>\n",
       "    </tr>\n",
       "  </tbody>\n",
       "</table>"
      ],
      "text/plain": [
       "<IPython.core.display.HTML object>"
      ]
     },
     "execution_count": 8,
     "metadata": {},
     "output_type": "execute_result"
    }
   ],
   "source": [
    "HTML(\n",
    "    all_data[all_data[\"likely_storm_type\"] == \"mid_latitude_cyclone\"].to_html(\n",
    "        escape=False\n",
    "    )\n",
    ")"
   ]
  },
  {
   "cell_type": "markdown",
   "metadata": {},
   "source": [
    "## Mesoscale Convective"
   ]
  },
  {
   "cell_type": "code",
   "execution_count": 9,
   "metadata": {},
   "outputs": [
    {
     "data": {
      "text/html": [
       "<table border=\"1\" class=\"dataframe\">\n",
       "  <thead>\n",
       "    <tr style=\"text-align: right;\">\n",
       "      <th></th>\n",
       "      <th>storm_start_date</th>\n",
       "      <th>local_storm</th>\n",
       "      <th>mesoscale_storm</th>\n",
       "      <th>mid_latitude_cyclone</th>\n",
       "      <th>tropical</th>\n",
       "      <th>likely_storm_type</th>\n",
       "      <th>notes</th>\n",
       "      <th>HTML_Link</th>\n",
       "    </tr>\n",
       "  </thead>\n",
       "  <tbody>\n",
       "    <tr>\n",
       "      <th>1</th>\n",
       "      <td>1989_05_13</td>\n",
       "      <td>3.0</td>\n",
       "      <td>6.0</td>\n",
       "      <td>1.0</td>\n",
       "      <td>0.0</td>\n",
       "      <td>mesoscale_storm</td>\n",
       "      <td>Too much precip coverage to be local storm</td>\n",
       "      <td><a href='notebooks/storm-1989_05_13.html'>notebooks/storm-1989_05_13.html</a></td>\n",
       "    </tr>\n",
       "  </tbody>\n",
       "</table>"
      ],
      "text/plain": [
       "<IPython.core.display.HTML object>"
      ]
     },
     "execution_count": 9,
     "metadata": {},
     "output_type": "execute_result"
    }
   ],
   "source": [
    "HTML(all_data[all_data[\"likely_storm_type\"] == \"mesoscale_storm\"].to_html(escape=False))"
   ]
  },
  {
   "cell_type": "markdown",
   "metadata": {},
   "source": [
    "## Tropical"
   ]
  },
  {
   "cell_type": "code",
   "execution_count": 10,
   "metadata": {},
   "outputs": [
    {
     "data": {
      "text/html": [
       "<table border=\"1\" class=\"dataframe\">\n",
       "  <thead>\n",
       "    <tr style=\"text-align: right;\">\n",
       "      <th></th>\n",
       "      <th>storm_start_date</th>\n",
       "      <th>local_storm</th>\n",
       "      <th>mesoscale_storm</th>\n",
       "      <th>mid_latitude_cyclone</th>\n",
       "      <th>tropical</th>\n",
       "      <th>likely_storm_type</th>\n",
       "      <th>notes</th>\n",
       "      <th>HTML_Link</th>\n",
       "    </tr>\n",
       "  </thead>\n",
       "  <tbody>\n",
       "    <tr>\n",
       "      <th>3</th>\n",
       "      <td>2017_08_27</td>\n",
       "      <td>0.0</td>\n",
       "      <td>0.0</td>\n",
       "      <td>1.0</td>\n",
       "      <td>6.0</td>\n",
       "      <td>tropical</td>\n",
       "      <td>Tropical Cyclone Harvey</td>\n",
       "      <td><a href='notebooks/storm-2017_08_27.html'>notebooks/storm-2017_08_27.html</a></td>\n",
       "    </tr>\n",
       "  </tbody>\n",
       "</table>"
      ],
      "text/plain": [
       "<IPython.core.display.HTML object>"
      ]
     },
     "execution_count": 10,
     "metadata": {},
     "output_type": "execute_result"
    }
   ],
   "source": [
    "HTML(all_data[all_data[\"likely_storm_type\"] == \"tropical\"].to_html(escape=False))"
   ]
  },
  {
   "cell_type": "markdown",
   "metadata": {},
   "source": [
    "## Local Storms"
   ]
  },
  {
   "cell_type": "code",
   "execution_count": 11,
   "metadata": {},
   "outputs": [
    {
     "data": {
      "text/html": [
       "<table border=\"1\" class=\"dataframe\">\n",
       "  <thead>\n",
       "    <tr style=\"text-align: right;\">\n",
       "      <th></th>\n",
       "      <th>storm_start_date</th>\n",
       "      <th>local_storm</th>\n",
       "      <th>mesoscale_storm</th>\n",
       "      <th>mid_latitude_cyclone</th>\n",
       "      <th>tropical</th>\n",
       "      <th>likely_storm_type</th>\n",
       "      <th>notes</th>\n",
       "      <th>HTML_Link</th>\n",
       "    </tr>\n",
       "  </thead>\n",
       "  <tbody>\n",
       "  </tbody>\n",
       "</table>"
      ],
      "text/plain": [
       "<IPython.core.display.HTML object>"
      ]
     },
     "execution_count": 11,
     "metadata": {},
     "output_type": "execute_result"
    }
   ],
   "source": [
    "HTML(all_data[all_data[\"likely_storm_type\"] == \"local_storm\"].to_html(escape=False))"
   ]
  },
  {
   "cell_type": "markdown",
   "metadata": {},
   "source": [
    "## Hybrid"
   ]
  },
  {
   "cell_type": "code",
   "execution_count": 12,
   "metadata": {},
   "outputs": [
    {
     "data": {
      "text/html": [
       "<table border=\"1\" class=\"dataframe\">\n",
       "  <thead>\n",
       "    <tr style=\"text-align: right;\">\n",
       "      <th></th>\n",
       "      <th>storm_start_date</th>\n",
       "      <th>local_storm</th>\n",
       "      <th>mesoscale_storm</th>\n",
       "      <th>mid_latitude_cyclone</th>\n",
       "      <th>tropical</th>\n",
       "      <th>likely_storm_type</th>\n",
       "      <th>notes</th>\n",
       "      <th>HTML_Link</th>\n",
       "    </tr>\n",
       "  </thead>\n",
       "  <tbody>\n",
       "  </tbody>\n",
       "</table>"
      ],
      "text/plain": [
       "<IPython.core.display.HTML object>"
      ]
     },
     "execution_count": 12,
     "metadata": {},
     "output_type": "execute_result"
    }
   ],
   "source": [
    "HTML(all_data[all_data[\"likely_storm_type\"] == \"hybrid\"].to_html(escape=False))"
   ]
  },
  {
   "cell_type": "code",
   "execution_count": null,
   "metadata": {},
   "outputs": [],
   "source": []
  }
 ],
 "metadata": {
  "kernelspec": {
   "display_name": "Python 3 (ipykernel)",
   "language": "python",
   "name": "python3"
  },
  "language_info": {
   "codemirror_mode": {
    "name": "ipython",
    "version": 3
   },
   "file_extension": ".py",
   "mimetype": "text/x-python",
   "name": "python",
   "nbconvert_exporter": "python",
   "pygments_lexer": "ipython3",
   "version": "3.10.13"
  }
 },
 "nbformat": 4,
 "nbformat_minor": 2
}
