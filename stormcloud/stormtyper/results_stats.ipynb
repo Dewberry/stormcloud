{
 "cells": [
  {
   "cell_type": "code",
   "execution_count": null,
   "metadata": {},
   "outputs": [],
   "source": []
  },
  {
   "cell_type": "code",
   "execution_count": 11,
   "metadata": {},
   "outputs": [
    {
     "data": {
      "text/html": [
       "<table border=\"1\" class=\"dataframe\">\n",
       "  <thead>\n",
       "    <tr style=\"text-align: right;\">\n",
       "      <th></th>\n",
       "      <th>storm_start_date</th>\n",
       "      <th>local_storm</th>\n",
       "      <th>mesoscale_storm</th>\n",
       "      <th>mid_latitude_cyclone</th>\n",
       "      <th>notes</th>\n",
       "      <th>tropical</th>\n",
       "      <th>likely_storm_type</th>\n",
       "      <th>HTML_Link</th>\n",
       "    </tr>\n",
       "  </thead>\n",
       "  <tbody>\n",
       "    <tr>\n",
       "      <th>0</th>\n",
       "      <td>2017_08_28</td>\n",
       "      <td>0.0</td>\n",
       "      <td>0.0</td>\n",
       "      <td>1.0</td>\n",
       "      <td>0.0</td>\n",
       "      <td>6.0</td>\n",
       "      <td>tropical</td>\n",
       "      <td><a href='notebooks/storm-2017_08_28.html'>notebooks/storm-2017_08_28.html</a></td>\n",
       "    </tr>\n",
       "    <tr>\n",
       "      <th>1</th>\n",
       "      <td>1986_03_11</td>\n",
       "      <td>0.0</td>\n",
       "      <td>2.0</td>\n",
       "      <td>6.0</td>\n",
       "      <td>0.0</td>\n",
       "      <td>0.0</td>\n",
       "      <td>mid_latitude_cyclone</td>\n",
       "      <td><a href='notebooks/storm-1986_03_11.html'>notebooks/storm-1986_03_11.html</a></td>\n",
       "    </tr>\n",
       "    <tr>\n",
       "      <th>2</th>\n",
       "      <td>2015_10_24</td>\n",
       "      <td>0.0</td>\n",
       "      <td>6.0</td>\n",
       "      <td>6.0</td>\n",
       "      <td>0.0</td>\n",
       "      <td>0.0</td>\n",
       "      <td>hybrid</td>\n",
       "      <td><a href='notebooks/storm-2015_10_24.html'>notebooks/storm-2015_10_24.html</a></td>\n",
       "    </tr>\n",
       "    <tr>\n",
       "      <th>3</th>\n",
       "      <td>1989_05_14</td>\n",
       "      <td>0.0</td>\n",
       "      <td>6.0</td>\n",
       "      <td>1.0</td>\n",
       "      <td>0.0</td>\n",
       "      <td>0.0</td>\n",
       "      <td>mesoscale_storm</td>\n",
       "      <td><a href='notebooks/storm-1989_05_14.html'>notebooks/storm-1989_05_14.html</a></td>\n",
       "    </tr>\n",
       "  </tbody>\n",
       "</table>"
      ],
      "text/plain": [
       "<IPython.core.display.HTML object>"
      ]
     },
     "execution_count": 11,
     "metadata": {},
     "output_type": "execute_result"
    }
   ],
   "source": [
    "import scrapbook as sb\n",
    "import pandas as pd\n",
    "from IPython.display import HTML\n",
    "\n",
    "# List of notebook paths\n",
    "notebook_paths = [\n",
    "    \"notebooks/storm-2017_08_28.ipynb\",\n",
    "    \"notebooks/storm-1986_03_11.ipynb\",\n",
    "    \"notebooks/storm-2015_10_24.ipynb\",\n",
    "    \"notebooks/storm-1989_05_14.ipynb\",\n",
    "]\n",
    "\n",
    "\n",
    "def determine_storm_type(row):\n",
    "    max_value = row.max()\n",
    "    max_columns = row[row == max_value].index.tolist()\n",
    "    if len(max_columns) > 1:\n",
    "        return \"hybrid\"\n",
    "    else:\n",
    "        return max_columns[0]\n",
    "\n",
    "\n",
    "def process_notebooks(notebook_paths):\n",
    "    all_data = pd.DataFrame()\n",
    "    for path in notebook_paths:\n",
    "        storm_date = path.split(\"/\")[-1].split(\".\")[0].split(\"-\")[-1]\n",
    "        nb = sb.read_notebook(path)\n",
    "        scraps = nb.scraps\n",
    "        stats_df = pd.DataFrame(scraps[\"summary_stats\"].data)\n",
    "        storm_type_sums = stats_df.sum(axis=1)\n",
    "        df = storm_type_sums.to_frame().T\n",
    "        df.insert(0, \"storm_start_date\", storm_date)\n",
    "        df[\"likely_storm_type\"] = df.drop(\"storm_start_date\", axis=1).apply(\n",
    "            determine_storm_type, axis=1\n",
    "        )\n",
    "        all_data = pd.concat([all_data, df], ignore_index=True)\n",
    "    return all_data\n",
    "\n",
    "\n",
    "def convert_paths_to_html_links(data_frame, notebook_paths):\n",
    "    html_paths = [path.replace(\".ipynb\", \".html\") for path in notebook_paths]\n",
    "    data_frame[\"HTML_Link\"] = html_paths\n",
    "    data_frame[\"HTML_Link\"] = data_frame[\"HTML_Link\"].apply(\n",
    "        lambda x: f\"<a href='{x}'>{x}</a>\"\n",
    "    )\n",
    "    return data_frame\n",
    "\n",
    "\n",
    "all_data = process_notebooks(notebook_paths)\n",
    "all_data_with_links = convert_paths_to_html_links(all_data, notebook_paths)\n",
    "HTML(all_data_with_links.to_html(escape=False))"
   ]
  },
  {
   "cell_type": "markdown",
   "metadata": {},
   "source": [
    "## Mid-Latitude Cyclone"
   ]
  },
  {
   "cell_type": "code",
   "execution_count": 8,
   "metadata": {},
   "outputs": [
    {
     "data": {
      "text/html": [
       "<table border=\"1\" class=\"dataframe\">\n",
       "  <thead>\n",
       "    <tr style=\"text-align: right;\">\n",
       "      <th></th>\n",
       "      <th>storm_start_date</th>\n",
       "      <th>local_storm</th>\n",
       "      <th>mesoscale_storm</th>\n",
       "      <th>mid_latitude_cyclone</th>\n",
       "      <th>notes</th>\n",
       "      <th>tropical</th>\n",
       "      <th>likely_storm_type</th>\n",
       "      <th>HTML_Link</th>\n",
       "    </tr>\n",
       "  </thead>\n",
       "  <tbody>\n",
       "    <tr>\n",
       "      <th>1</th>\n",
       "      <td>1986_03_11</td>\n",
       "      <td>0.0</td>\n",
       "      <td>2.0</td>\n",
       "      <td>6.0</td>\n",
       "      <td>0.0</td>\n",
       "      <td>0.0</td>\n",
       "      <td>mid_latitude_cyclone</td>\n",
       "      <td><a href='notebooks/storm-1986_03_11.html'>notebooks/storm-1986_03_11.html</a></td>\n",
       "    </tr>\n",
       "  </tbody>\n",
       "</table>"
      ],
      "text/plain": [
       "<IPython.core.display.HTML object>"
      ]
     },
     "execution_count": 8,
     "metadata": {},
     "output_type": "execute_result"
    }
   ],
   "source": [
    "HTML(\n",
    "    all_data[all_data[\"likely_storm_type\"] == \"mid_latitude_cyclone\"].to_html(\n",
    "        escape=False\n",
    "    )\n",
    ")"
   ]
  },
  {
   "cell_type": "markdown",
   "metadata": {},
   "source": [
    "## Mesoscale Convective"
   ]
  },
  {
   "cell_type": "code",
   "execution_count": 9,
   "metadata": {},
   "outputs": [
    {
     "data": {
      "text/html": [
       "<table border=\"1\" class=\"dataframe\">\n",
       "  <thead>\n",
       "    <tr style=\"text-align: right;\">\n",
       "      <th></th>\n",
       "      <th>storm_start_date</th>\n",
       "      <th>local_storm</th>\n",
       "      <th>mesoscale_storm</th>\n",
       "      <th>mid_latitude_cyclone</th>\n",
       "      <th>notes</th>\n",
       "      <th>tropical</th>\n",
       "      <th>likely_storm_type</th>\n",
       "      <th>HTML_Link</th>\n",
       "    </tr>\n",
       "  </thead>\n",
       "  <tbody>\n",
       "    <tr>\n",
       "      <th>3</th>\n",
       "      <td>1989_05_14</td>\n",
       "      <td>0.0</td>\n",
       "      <td>6.0</td>\n",
       "      <td>1.0</td>\n",
       "      <td>0.0</td>\n",
       "      <td>0.0</td>\n",
       "      <td>mesoscale_storm</td>\n",
       "      <td><a href='notebooks/storm-1989_05_14.html'>notebooks/storm-1989_05_14.html</a></td>\n",
       "    </tr>\n",
       "  </tbody>\n",
       "</table>"
      ],
      "text/plain": [
       "<IPython.core.display.HTML object>"
      ]
     },
     "execution_count": 9,
     "metadata": {},
     "output_type": "execute_result"
    }
   ],
   "source": [
    "HTML(all_data[all_data[\"likely_storm_type\"] == \"mesoscale_storm\"].to_html(escape=False))"
   ]
  },
  {
   "cell_type": "markdown",
   "metadata": {},
   "source": [
    "## Tropical"
   ]
  },
  {
   "cell_type": "code",
   "execution_count": 4,
   "metadata": {},
   "outputs": [
    {
     "data": {
      "text/html": [
       "<table border=\"1\" class=\"dataframe\">\n",
       "  <thead>\n",
       "    <tr style=\"text-align: right;\">\n",
       "      <th></th>\n",
       "      <th>storm_start_date</th>\n",
       "      <th>local_storm</th>\n",
       "      <th>mesoscale_storm</th>\n",
       "      <th>mid_latitude_cyclone</th>\n",
       "      <th>notes</th>\n",
       "      <th>tropical</th>\n",
       "      <th>likely_storm_type</th>\n",
       "      <th>HTML_Link</th>\n",
       "    </tr>\n",
       "  </thead>\n",
       "  <tbody>\n",
       "    <tr>\n",
       "      <th>0</th>\n",
       "      <td>2017_08_28</td>\n",
       "      <td>0.0</td>\n",
       "      <td>0.0</td>\n",
       "      <td>1.0</td>\n",
       "      <td>0.0</td>\n",
       "      <td>6.0</td>\n",
       "      <td>tropical</td>\n",
       "      <td><a href='notebooks/storm-2017_08_28.html'>notebooks/storm-2017_08_28.html</a></td>\n",
       "    </tr>\n",
       "  </tbody>\n",
       "</table>"
      ],
      "text/plain": [
       "<IPython.core.display.HTML object>"
      ]
     },
     "execution_count": 4,
     "metadata": {},
     "output_type": "execute_result"
    }
   ],
   "source": [
    "HTML(all_data[all_data[\"likely_storm_type\"] == \"tropical\"].to_html(escape=False))"
   ]
  },
  {
   "cell_type": "markdown",
   "metadata": {},
   "source": [
    "## Local Storms"
   ]
  },
  {
   "cell_type": "code",
   "execution_count": 5,
   "metadata": {},
   "outputs": [
    {
     "data": {
      "text/html": [
       "<table border=\"1\" class=\"dataframe\">\n",
       "  <thead>\n",
       "    <tr style=\"text-align: right;\">\n",
       "      <th></th>\n",
       "      <th>storm_start_date</th>\n",
       "      <th>local_storm</th>\n",
       "      <th>mesoscale_storm</th>\n",
       "      <th>mid_latitude_cyclone</th>\n",
       "      <th>notes</th>\n",
       "      <th>tropical</th>\n",
       "      <th>likely_storm_type</th>\n",
       "      <th>HTML_Link</th>\n",
       "    </tr>\n",
       "  </thead>\n",
       "  <tbody>\n",
       "  </tbody>\n",
       "</table>"
      ],
      "text/plain": [
       "<IPython.core.display.HTML object>"
      ]
     },
     "execution_count": 5,
     "metadata": {},
     "output_type": "execute_result"
    }
   ],
   "source": [
    "HTML(all_data[all_data[\"likely_storm_type\"] == \"local_storm\"].to_html(escape=False))"
   ]
  },
  {
   "cell_type": "markdown",
   "metadata": {},
   "source": [
    "## Hybrid"
   ]
  },
  {
   "cell_type": "code",
   "execution_count": 6,
   "metadata": {},
   "outputs": [
    {
     "data": {
      "text/html": [
       "<table border=\"1\" class=\"dataframe\">\n",
       "  <thead>\n",
       "    <tr style=\"text-align: right;\">\n",
       "      <th></th>\n",
       "      <th>storm_start_date</th>\n",
       "      <th>local_storm</th>\n",
       "      <th>mesoscale_storm</th>\n",
       "      <th>mid_latitude_cyclone</th>\n",
       "      <th>notes</th>\n",
       "      <th>tropical</th>\n",
       "      <th>likely_storm_type</th>\n",
       "      <th>HTML_Link</th>\n",
       "    </tr>\n",
       "  </thead>\n",
       "  <tbody>\n",
       "    <tr>\n",
       "      <th>2</th>\n",
       "      <td>2015_10_24</td>\n",
       "      <td>0.0</td>\n",
       "      <td>6.0</td>\n",
       "      <td>6.0</td>\n",
       "      <td>0.0</td>\n",
       "      <td>0.0</td>\n",
       "      <td>hybrid</td>\n",
       "      <td><a href='notebooks/storm-2015_10_24.html'>notebooks/storm-2015_10_24.html</a></td>\n",
       "    </tr>\n",
       "  </tbody>\n",
       "</table>"
      ],
      "text/plain": [
       "<IPython.core.display.HTML object>"
      ]
     },
     "execution_count": 6,
     "metadata": {},
     "output_type": "execute_result"
    }
   ],
   "source": [
    "HTML(all_data[all_data[\"likely_storm_type\"] == \"hybrid\"].to_html(escape=False))"
   ]
  },
  {
   "cell_type": "code",
   "execution_count": null,
   "metadata": {},
   "outputs": [],
   "source": []
  }
 ],
 "metadata": {
  "kernelspec": {
   "display_name": "Python 3 (ipykernel)",
   "language": "python",
   "name": "python3"
  },
  "language_info": {
   "codemirror_mode": {
    "name": "ipython",
    "version": 3
   },
   "file_extension": ".py",
   "mimetype": "text/x-python",
   "name": "python",
   "nbconvert_exporter": "python",
   "pygments_lexer": "ipython3",
   "version": "3.10.13"
  }
 },
 "nbformat": 4,
 "nbformat_minor": 2
}
